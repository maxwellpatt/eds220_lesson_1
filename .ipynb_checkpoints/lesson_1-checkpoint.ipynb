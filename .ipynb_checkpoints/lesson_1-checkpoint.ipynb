{
 "cells": [
  {
   "cell_type": "code",
   "execution_count": 1,
   "id": "f2284595-b7f3-4a9a-8187-e507203a99a0",
   "metadata": {
    "tags": []
   },
   "outputs": [],
   "source": [
    "import numpy as np"
   ]
  },
  {
   "cell_type": "markdown",
   "id": "cec70414-10be-49ab-9504-dad0d281ff31",
   "metadata": {},
   "source": [
    "# Variables"
   ]
  },
  {
   "cell_type": "code",
   "execution_count": 2,
   "id": "00de628d-6a47-4dda-a12c-98fddd42cdc2",
   "metadata": {
    "tags": []
   },
   "outputs": [],
   "source": [
    "# assign a small array to a variable a\n",
    "a = np.array( [[1,1,2],\n",
    "               [3,5,8]])"
   ]
  },
  {
   "cell_type": "code",
   "execution_count": 3,
   "id": "8440efef-73a0-4a25-8306-89d5c1db8714",
   "metadata": {
    "tags": []
   },
   "outputs": [
    {
     "data": {
      "text/plain": [
       "array([[1, 1, 2],\n",
       "       [3, 5, 8]])"
      ]
     },
     "execution_count": 3,
     "metadata": {},
     "output_type": "execute_result"
    }
   ],
   "source": [
    "a"
   ]
  },
  {
   "cell_type": "markdown",
   "id": "f96099c6-b7ab-4262-863b-9ffdb5e622e7",
   "metadata": {},
   "source": [
    "# Variables and Object\n",
    "an object is a bundle of properties and actions about something specific\n",
    "\n",
    "Example: \n",
    "- object: data frame\n",
    "- properties: number of rows, names of columns, date created, etc\n",
    "- actions: selecting a row, adding a column, etc\n",
    "\n",
    "A variable is a name we give a specific object, and the same object can be referenced by different vars\n",
    "\n",
    "\n"
   ]
  },
  {
   "cell_type": "markdown",
   "id": "da63eb79-73e5-4950-be01-809bd7696007",
   "metadata": {},
   "source": [
    "# Types\n",
    "type = what kind of object it is"
   ]
  },
  {
   "cell_type": "code",
   "execution_count": 5,
   "id": "1513bf18-88f3-473b-8a2b-e9545eb8ca06",
   "metadata": {
    "tags": []
   },
   "outputs": [
    {
     "data": {
      "text/plain": [
       "numpy.ndarray"
      ]
     },
     "execution_count": 5,
     "metadata": {},
     "output_type": "execute_result"
    }
   ],
   "source": [
    "type(a)"
   ]
  },
  {
   "cell_type": "markdown",
   "id": "7271b295-9091-41cc-a3a6-fb51230f0c31",
   "metadata": {},
   "source": [
    "We can check the type of an entry in the array by indexing"
   ]
  },
  {
   "cell_type": "code",
   "execution_count": 9,
   "id": "5ba6e1db-8328-4772-94b3-621747285b04",
   "metadata": {
    "tags": []
   },
   "outputs": [
    {
     "data": {
      "text/plain": [
       "numpy.int64"
      ]
     },
     "execution_count": 9,
     "metadata": {},
     "output_type": "execute_result"
    }
   ],
   "source": [
    "type(a[0,0])"
   ]
  },
  {
   "cell_type": "code",
   "execution_count": 10,
   "id": "cbb65dd6-a355-4986-8339-312410372bd6",
   "metadata": {
    "tags": []
   },
   "outputs": [
    {
     "data": {
      "text/plain": [
       "5"
      ]
     },
     "execution_count": 10,
     "metadata": {},
     "output_type": "execute_result"
    }
   ],
   "source": [
    "# accessing the value 5 in the array\n",
    "a[1,1]"
   ]
  },
  {
   "cell_type": "markdown",
   "id": "d2b0ac71-c5dc-4f40-96fd-26b32bcc558d",
   "metadata": {},
   "source": [
    "# Functions\n",
    "A function:\n",
    "- Takes in a set of **arguments**, separates by commas, and\n",
    "- Uses those arguments to produce some **output**\n",
    "\n",
    "argument = parameter"
   ]
  },
  {
   "cell_type": "code",
   "execution_count": null,
   "id": "0252aa25-481f-4222-9ecd-eb67893f0510",
   "metadata": {},
   "outputs": [],
   "source": []
  }
 ],
 "metadata": {
  "kernelspec": {
   "display_name": "Anaconda 3 (Base)",
   "language": "python",
   "name": "base"
  },
  "language_info": {
   "codemirror_mode": {
    "name": "ipython",
    "version": 3
   },
   "file_extension": ".py",
   "mimetype": "text/x-python",
   "name": "python",
   "nbconvert_exporter": "python",
   "pygments_lexer": "ipython3",
   "version": "3.9.13"
  }
 },
 "nbformat": 4,
 "nbformat_minor": 5
}
